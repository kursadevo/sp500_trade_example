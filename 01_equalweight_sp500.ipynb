{
 "cells": [
  {
   "cell_type": "markdown",
   "id": "9914ab66",
   "metadata": {},
   "source": [
    "# EQUALWEIGHT PART \n",
    "\n"
   ]
  },
  {
   "cell_type": "code",
   "execution_count": null,
   "id": "7dc69db5",
   "metadata": {},
   "outputs": [],
   "source": [
    "import numpy as np\n",
    "import pandas as pd\n",
    "import requests\n",
    "import xlsxwriter\n",
    "import math"
   ]
  },
  {
   "cell_type": "code",
   "execution_count": null,
   "metadata": {},
   "outputs": [],
   "source": [
    "stocks = pd.read_csv('sp_500_stocks.csv')\n",
    "#type(stocks) -> dataframe check\n",
    "#stocks -> you can check stocks that way"
   ]
  },
  {
   "cell_type": "markdown",
   "id": "922db906",
   "metadata": {},
   "source": [
    "the most api's work is they only expose certain data through each endpoint, which makes things faster if you only need to retrieve certain data\n"
   ]
  },
  {
   "cell_type": "code",
   "execution_count": null,
   "metadata": {},
   "outputs": [],
   "source": [
    "from secrets import IEX_CLOUD_API_TOKEN #if this code fails, just restart jupyterkernel\n",
    "#secrets.py is made for tokens by Python\n",
    "#IEX Cloud provides all accounts a free, unlimited use sandbox for testing. \n",
    "# Every account will be assigned two test tokens available via the Console. \n",
    "# All sandbox endpoints function the same as production, so you will only need to change the base url and token"
   ]
  },
  {
   "cell_type": "code",
   "execution_count": null,
   "metadata": {},
   "outputs": [],
   "source": [
    "\"\"\" \n",
    "we need market capitalizm for each stock\n",
    "price of each stock\n",
    "we use sandbox free api. \n",
    "sandbox api is free and we can improve\n",
    "real investment strategies\n",
    "google -> iex cloud api -> find sandbox base url\n",
    "\"\"\"\n",
    "symbol = 'AAPL'                         \n",
    "api_url = f'https://sandbox.iexapis.com/stable/stock/{symbol}/quote/?token={IEX_CLOUD_API_TOKEN}' \n",
    "data = requests.get(api_url).json()\n",
    "#type(data) -> response\n",
    "#print(data.status_code) ->check data status.\n",
    "print(data)                                 \n",
    "                                        \n",
    "                                        \n"
   ]
  },
  {
   "cell_type": "code",
   "execution_count": null,
   "metadata": {},
   "outputs": [],
   "source": [
    "data['latestPrice']\n",
    "data['marketCap']"
   ]
  },
  {
   "cell_type": "code",
   "execution_count": null,
   "metadata": {},
   "outputs": [],
   "source": [
    "my_columns = [ 'Ticker' , 'Price' , 'Market Capitalization' , 'Number of Shares to Buy']\n",
    "final_dataframe = pd.DataFrame(columns = my_columns)\n",
    "final_dataframe"
   ]
  },
  {
   "cell_type": "code",
   "execution_count": null,
   "metadata": {},
   "outputs": [],
   "source": [
    "final_dataframe = final_dataframe.append(\n",
    "    pd.Series(\n",
    "        [\n",
    "            'AAPL', \n",
    "            data['latestPrice'], \n",
    "            data['marketCap'], \n",
    "            'N/A'], \n",
    "            index = my_columns), \n",
    "            ignore_index = True)\n",
    "final_dataframe\n",
    "   \n",
    "#we have pandas series and dataframe problems in there(index,ignore_index)"
   ]
  },
  {
   "cell_type": "markdown",
   "id": "930ed56d",
   "metadata": {},
   "source": [
    "### we need to do now is loop to every ticker in our stocks variable and execute an API call for that stock, and then store the results of that API call in our pandas dataframe” with 'for'\n",
    "\n",
    "this loop  running very slow because of http request"
   ]
  },
  {
   "cell_type": "code",
   "execution_count": null,
   "metadata": {},
   "outputs": [],
   "source": [
    "final_dataframe = pd.DataFrame(columns = my_columns)\n",
    "for symbol in stocks['Ticker']:\n",
    "    api_url = f'https://sandbox.iexapis.com/stable/stock/{symbol}/quote/?token={IEX_CLOUD_API_TOKEN}' \n",
    "    data = requests.get(api_url).json()\n",
    "    final_dataframe = final_dataframe.append(\n",
    "        pd.Series(\n",
    "            [\n",
    "                symbol,\n",
    "                data['latestPrice'],\n",
    "                data['marketCap'],\n",
    "                'N/A' #for the last row\n",
    "            ],\n",
    "            index = my_columns\n",
    "        ),\n",
    "        ignore_index=True\n",
    "    )\n",
    "\n",
    "final_dataframe"
   ]
  },
  {
   "cell_type": "markdown",
   "metadata": {},
   "source": []
  },
  {
   "cell_type": "code",
   "execution_count": null,
   "metadata": {},
   "outputs": [],
   "source": [
    "def chunks(lst, n):\n",
    "    for i in range(0, len(lst),n):\n",
    "        yield lst[i:i +n]"
   ]
  },
  {
   "cell_type": "markdown",
   "id": "906af91f",
   "metadata": {},
   "source": [
    "## we need to transform all of the stocks that's in each of those lists into a string, and that string will be passed into the URL of the HTTP request that we're executing\n",
    "\n",
    "first, we'll just create an empty list called symbol strings. and its going to be a list of strings, where each string is a comma separated string of all the stocks in this object (symbol_strings)\n",
    "we need to do is loop through every string in our symbol strings object, and then use that string to execute a batch API request. So we're gonna use a for loop for this. And to keep the nomenclature pretty simple we're going to just say for symbol string in symbol\n",
    "\n",
    "/stock/market/batch?symbols=aapl,fb,tsla&types=quote,news,chart&range=1m&last=5 -> from iex api cloud documentation\n"
   ]
  },
  {
   "cell_type": "code",
   "execution_count": null,
   "metadata": {},
   "outputs": [],
   "source": [
    "symbol_groups = list(chunks(stocks['Ticker'],100)) #iex cloud api batch limit is 100 ticker\n",
    "symbol_strings = []\n",
    "#symbol_groups\n",
    "for i in range(0, len(symbol_groups)):\n",
    "    symbol_strings.append(','.join(symbol_groups[i]))\n",
    "#print(symbol_strings[i])\n",
    "\n",
    "final_dataframe = pd.DataFrame(columns=my_columns)\n",
    "\n",
    "for symbol_string in symbol_strings:\n",
    "#print(symbol_strings)    \n",
    "    batch_api_call_url = f'https://sandbox.iexapis.com/stable/stock/market/batch/?types=quote&symbols={symbol_string}&token={IEX_CLOUD_API_TOKEN}'\n",
    "    data = requests.get(batch_api_call_url).json()\n",
    "    for symbol in symbol_string.split(','):\n",
    "        final_dataframe = final_dataframe.append(\n",
    "            pd.Series(\n",
    "                [\n",
    "                    symbol,\n",
    "                    data[symbol]['quote']['latestPrice'],\n",
    "                    data[symbol]['quote']['marketCap'],\n",
    "                    'N/A'\n",
    "                ],\n",
    "                index = my_columns\n",
    "            ),\n",
    "            ignore_index=True\n",
    "        )\n",
    "\n",
    "final_dataframe"
   ]
  },
  {
   "cell_type": "markdown",
   "id": "d511a908",
   "metadata": {},
   "source": [
    "# calculating the number of shares to buy"
   ]
  },
  {
   "cell_type": "code",
   "execution_count": null,
   "metadata": {},
   "outputs": [],
   "source": [
    "portfolio_size = input(\"Enter the value of your portfolio:\")\n",
    "\n",
    "try:\n",
    "    val = float(portfolio_size)\n",
    "except ValueError:\n",
    "    print(\"That's not a number! \\n Try again:\")\n",
    "    portfolio_size = input(\"Enter the value of your portfolio:\")"
   ]
  },
  {
   "cell_type": "code",
   "execution_count": null,
   "metadata": {},
   "outputs": [],
   "source": [
    "position_size = float(portfolio_size) / len(final_dataframe.index)\n",
    "for i in range(0, len(final_dataframe['Ticker'])-1):\n",
    "    final_dataframe.loc[i, 'Number Of Shares to Buy'] = math.floor(position_size / final_dataframe['Price'][i])\n",
    "\n",
    "print(final_dataframe)\n",
    "#number_of_apple_shares = position_size/500\n",
    "#print(math.floor(number_of_apple_shares))"
   ]
  },
  {
   "cell_type": "code",
   "execution_count": null,
   "metadata": {},
   "outputs": [],
   "source": [
    "#formatting our excel output\n",
    "writer = pd.ExcelWriter('recommended_trades.xlsx', engine='xlsxwriter')\n",
    "final_dataframe.to_excel(writer, sheet_name='Recommended Trades', index = False)"
   ]
  },
  {
   "cell_type": "code",
   "execution_count": null,
   "metadata": {},
   "outputs": [],
   "source": [
    "#creating the formats we'll need for our .xlsx file\n",
    "#String format for tickers\n",
    "#\\$XX.XX format for stock prices\n",
    "#\\$XX,XXX format for market capitalization\n",
    "#Integer format for the number of shares to purchase\n",
    "background_color = '#0a0a23'\n",
    "font_color = '#ffffff'\n",
    "\n",
    "string_format = writer.book.add_format(\n",
    "        {\n",
    "            'font_color': font_color,\n",
    "            'bg_color': background_color,\n",
    "            'border': 1\n",
    "        }\n",
    "    )\n",
    "\n",
    "dollar_format = writer.book.add_format(\n",
    "        {\n",
    "            'num_format':'$0.00',\n",
    "            'font_color': font_color,\n",
    "            'bg_color': background_color,\n",
    "            'border': 1\n",
    "        }\n",
    "    )\n",
    "\n",
    "integer_format = writer.book.add_format(\n",
    "        {\n",
    "            'num_format':'0',\n",
    "            'font_color': font_color,\n",
    "            'bg_color': background_color,\n",
    "            'border': 1\n",
    "        }\n",
    "    )"
   ]
  },
  {
   "cell_type": "code",
   "execution_count": null,
   "metadata": {},
   "outputs": [],
   "source": [
    "#applying the formats to the columns of our .xlsx file\n",
    "#example:\n",
    "\"\"\"\n",
    "writer.sheets['Recommended Trades'].set_column('B:B', #This tells the method to apply the format to column B\n",
    "18, #This tells the method to apply a column width of 18 pixels\n",
    "string_format #This applies the format 'string_format' to the column\n",
    ")\n",
    "\"\"\"\n",
    "# writer.sheets['Recommended Trades'].write('A1', 'Ticker', string_format)\n",
    "# writer.sheets['Recommended Trades'].write('B1', 'Price', string_format)\n",
    "# writer.sheets['Recommended Trades'].write('C1', 'Market Capitalization', string_format)\n",
    "# writer.sheets['Recommended Trades'].write('D1', 'Number Of Shares to Buy', string_format)\n",
    "# writer.sheets['Recommended Trades'].set_column('A:A', 20, string_format)\n",
    "# writer.sheets['Recommended Trades'].set_column('B:B', 20, dollar_format)\n",
    "# writer.sheets['Recommended Trades'].set_column('C:C', 20, dollar_format)\n",
    "# writer.sheets['Recommended Trades'].set_column('D:D', 20, integer_format)\n"
   ]
  },
  {
   "cell_type": "code",
   "execution_count": null,
   "metadata": {},
   "outputs": [],
   "source": [
    "#simplify this by putting it in 2 loops:\n",
    "column_formats = { \n",
    "    'A': ['Ticker', string_format],\n",
    "    'B': ['Price', dollar_format],\n",
    "    'C': ['Market Capitalization', dollar_format],\n",
    "    'D': ['Number of Shares to Buy', integer_format]\n",
    "    }\n",
    "\n",
    "for column in column_formats.keys():\n",
    "    writer.sheets['Recommended Trades'].set_column(f'{column}:{column}', 20, column_formats[column][1])\n",
    "    writer.sheets['Recommended Trades'].write(f'{column}1', column_formats[column][0], string_format)"
   ]
  },
  {
   "cell_type": "code",
   "execution_count": null,
   "metadata": {},
   "outputs": [],
   "source": [
    "#saving our excel\n",
    "writer.save()"
   ]
  }
 ],
 "metadata": {
  "interpreter": {
   "hash": "949777d72b0d2535278d3dc13498b2535136f6dfe0678499012e853ee9abcab1"
  },
  "kernelspec": {
   "display_name": "Python 3.10.0 64-bit",
   "name": "python3"
  },
  "language_info": {
   "codemirror_mode": {
    "name": "ipython",
    "version": 3
   },
   "file_extension": ".py",
   "mimetype": "text/x-python",
   "name": "python",
   "nbconvert_exporter": "python",
   "pygments_lexer": "ipython3",
   "version": "3.9.8"
  }
 },
 "nbformat": 4,
 "nbformat_minor": 5
}
